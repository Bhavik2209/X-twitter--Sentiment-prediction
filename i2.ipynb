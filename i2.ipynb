{
 "cells": [
  {
   "cell_type": "code",
   "execution_count": 6,
   "metadata": {},
   "outputs": [
    {
     "name": "stderr",
     "output_type": "stream",
     "text": [
      "[nltk_data] Downloading package punkt to\n",
      "[nltk_data]     C:\\Users\\SVI\\AppData\\Roaming\\nltk_data...\n",
      "[nltk_data]   Package punkt is already up-to-date!\n",
      "[nltk_data] Downloading package stopwords to\n",
      "[nltk_data]     C:\\Users\\SVI\\AppData\\Roaming\\nltk_data...\n",
      "[nltk_data]   Package stopwords is already up-to-date!\n",
      "[nltk_data] Downloading package wordnet to\n",
      "[nltk_data]     C:\\Users\\SVI\\AppData\\Roaming\\nltk_data...\n",
      "[nltk_data]   Package wordnet is already up-to-date!\n"
     ]
    },
    {
     "name": "stdout",
     "output_type": "stream",
     "text": [
      "Training...\n"
     ]
    },
    {
     "name": "stderr",
     "output_type": "stream",
     "text": [
      "c:\\Users\\SVI\\AppData\\Local\\Programs\\Python\\Python312\\Lib\\site-packages\\sklearn\\linear_model\\_logistic.py:469: ConvergenceWarning: lbfgs failed to converge (status=1):\n",
      "STOP: TOTAL NO. of ITERATIONS REACHED LIMIT.\n",
      "\n",
      "Increase the number of iterations (max_iter) or scale the data as shown in:\n",
      "    https://scikit-learn.org/stable/modules/preprocessing.html\n",
      "Please also refer to the documentation for alternative solver options:\n",
      "    https://scikit-learn.org/stable/modules/linear_model.html#logistic-regression\n",
      "  n_iter_i = _check_optimize_result(\n"
     ]
    },
    {
     "name": "stdout",
     "output_type": "stream",
     "text": [
      "Accuracy : 0.8729396588791745\n",
      "Confusion Matrix :\n",
      "[[3435  180  162   64]\n",
      " [ 166 3927  182   35]\n",
      " [ 202  201 2883   63]\n",
      " [ 206  178  134 1936]]\n"
     ]
    }
   ],
   "source": [
    "import numpy as np\n",
    "import pandas as pd\n",
    "import matplotlib.pyplot as plt\n",
    "import nltk\n",
    "from nltk.tokenize import word_tokenize\n",
    "from nltk.corpus import stopwords\n",
    "from nltk.stem import WordNetLemmatizer\n",
    "from sklearn.feature_extraction.text import TfidfVectorizer\n",
    "from sklearn.model_selection import train_test_split\n",
    "from sklearn.linear_model import LogisticRegression\n",
    "from sklearn.naive_bayes import MultinomialNB, BernoulliNB\n",
    "from sklearn.ensemble import RandomForestClassifier\n",
    "from sklearn.metrics import accuracy_score, confusion_matrix\n",
    "\n",
    "# Load the dataset\n",
    "df = pd.read_csv(\"twitter_training.csv\")\n",
    "df.drop(columns=['no', 'topic'], inplace=True)\n",
    "df.dropna(inplace=True)\n",
    "df.drop_duplicates(keep='first', inplace=True)\n",
    "\n",
    "# Map labels to numerical values\n",
    "df['label'] = df['label'].map({'Positive': 1, 'Negative': 2, 'Neutral': 3, 'Irrelevant': 4})\n",
    "\n",
    "# Define preprocessing function\n",
    "nltk.download('punkt')\n",
    "nltk.download('stopwords')\n",
    "nltk.download('wordnet')\n",
    "lemmatizer = WordNetLemmatizer()\n",
    "stop_words = set(stopwords.words('english'))\n",
    "\n",
    "def preprocessing(text):\n",
    "    tokens = word_tokenize(text)\n",
    "    tokens = [lemmatizer.lemmatize(word.lower()) for word in tokens if word.isalnum() and word.lower() not in stop_words]\n",
    "    return ' '.join(tokens)\n",
    "\n",
    "# Apply preprocessing to text column\n",
    "df['text'] = df['text'].apply(preprocessing)\n",
    "\n",
    "# Split data into features and labels\n",
    "X = df['text']\n",
    "y = df['label']\n",
    "\n",
    "# Split the dataset into train and test sets\n",
    "X_train, X_test, y_train, y_test = train_test_split(X, y, test_size=0.2, random_state=2)\n",
    "\n",
    "# Vectorize text data using TF-IDF\n",
    "tfidf = TfidfVectorizer(ngram_range=(1, 2))  # Using bigrams\n",
    "X_train_tfidf = tfidf.fit_transform(X_train)\n",
    "X_test_tfidf = tfidf.transform(X_test)\n",
    "\n",
    "lr = LogisticRegression()\n",
    "\n",
    "\n",
    "print(f\"Training...\")\n",
    "lr.fit(X_train_tfidf, y_train)\n",
    "y_pred = lr.predict(X_test_tfidf)\n",
    "acc = accuracy_score(y_test, y_pred)\n",
    "print(f\"Accuracy : {acc}\")\n",
    "print(f\"Confusion Matrix :\\n{confusion_matrix(y_test, y_pred)}\")\n"
   ]
  },
  {
   "cell_type": "code",
   "execution_count": 3,
   "metadata": {},
   "outputs": [],
   "source": []
  },
  {
   "cell_type": "code",
   "execution_count": 12,
   "metadata": {},
   "outputs": [
    {
     "name": "stdout",
     "output_type": "stream",
     "text": [
      "The predicted sentiment for the input text is: Negative\n"
     ]
    }
   ],
   "source": [
    "user_input = input(\"Enter the text for sentiment analysis: \")\n",
    "\n",
    "# Preprocess the user input\n",
    "processed_input = preprocessing(user_input)\n",
    "\n",
    "# Vectorize the processed input using TF-IDF\n",
    "input_vectorized = tfidf.transform([processed_input])\n",
    "\n",
    "# Predict the sentiment label using the Logistic Regression model\n",
    "predicted_label = lr.predict(input_vectorized)[0]\n",
    "\n",
    "# Map numerical label back to original sentiment\n",
    "sentiment_mapping = {1: 'Positive', 2: 'Negative', 3: 'Neutral', 4: 'Irrelevant'}\n",
    "predicted_sentiment = sentiment_mapping[predicted_label]\n",
    "\n",
    "print(f\"The predicted sentiment for the input text is: {predicted_sentiment}\")"
   ]
  },
  {
   "cell_type": "code",
   "execution_count": null,
   "metadata": {},
   "outputs": [],
   "source": []
  }
 ],
 "metadata": {
  "kernelspec": {
   "display_name": "Python 3",
   "language": "python",
   "name": "python3"
  },
  "language_info": {
   "codemirror_mode": {
    "name": "ipython",
    "version": 3
   },
   "file_extension": ".py",
   "mimetype": "text/x-python",
   "name": "python",
   "nbconvert_exporter": "python",
   "pygments_lexer": "ipython3",
   "version": "3.12.2"
  }
 },
 "nbformat": 4,
 "nbformat_minor": 2
}
